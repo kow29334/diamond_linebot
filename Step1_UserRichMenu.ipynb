{
 "cells": [
  {
   "cell_type": "code",
   "execution_count": 8,
   "metadata": {},
   "outputs": [
    {
     "data": {
      "text/plain": [
       "'\\n\\n用戶菜單功能介紹\\n\\n    用戶能透過點擊菜單，進行我方希冀之業務功能。\\n    \\n流程\\n    準備菜單的圖面設定檔\\n    讀取安全設定檔上的參數\\n    將菜單設定檔傳給Line\\n    對Line上傳菜單照片\\n    檢視現有的菜單\\n    將菜單與用戶做綁定\\n    將菜單與用戶解除綁定\\n    刪除菜單\\n\\n'"
      ]
     },
     "execution_count": 8,
     "metadata": {},
     "output_type": "execute_result"
    }
   ],
   "source": [
    "'''\n",
    "\n",
    "用戶菜單功能介紹\n",
    "\n",
    "    用戶能透過點擊菜單，進行我方希冀之業務功能。\n",
    "    \n",
    "流程\n",
    "    準備菜單的圖面設定檔\n",
    "    讀取安全設定檔上的參數\n",
    "    將菜單設定檔傳給Line\n",
    "    對Line上傳菜單照片\n",
    "    檢視現有的菜單\n",
    "    將菜單與用戶做綁定\n",
    "    將菜單與用戶解除綁定\n",
    "    刪除菜單\n",
    "\n",
    "'''"
   ]
  },
  {
   "cell_type": "code",
   "execution_count": 9,
   "metadata": {},
   "outputs": [],
   "source": [
    "'''\n",
    "菜單設定檔\n",
    "\n",
    "    設定圖面大小、按鍵名與功能\n",
    "    \n",
    "'''\n",
    "\n",
    "menuRawData=\"\"\"\n",
    "{\n",
    "  \"size\": {\n",
    "    \"width\": 2500,\n",
    "    \"height\": 1686\n",
    "  },\n",
    "  \"selected\": true,\n",
    "  \"name\": \"圖文選單 2\",\n",
    "  \"chatBarText\": \"查看更多資訊\",\n",
    "  \"areas\": [\n",
    "    {\n",
    "      \"bounds\": {\n",
    "        \"x\": 8,\n",
    "        \"y\": 12,\n",
    "        \"width\": 809,\n",
    "        \"height\": 813\n",
    "      },\n",
    "      \"action\": {\n",
    "        \"type\": \"message\",\n",
    "        \"text\": \"我的基本資料\"\n",
    "      }\n",
    "    },\n",
    "    {\n",
    "      \"bounds\": {\n",
    "        \"x\": 846,\n",
    "        \"y\": 21,\n",
    "        \"width\": 800,\n",
    "        \"height\": 804\n",
    "      },\n",
    "      \"action\": {\n",
    "        \"type\": \"message\",\n",
    "        \"text\": \"食譜推薦\"\n",
    "      }\n",
    "    },\n",
    "    {\n",
    "      \"bounds\": {\n",
    "        \"x\": 1679,\n",
    "        \"y\": 12,\n",
    "        \"width\": 809,\n",
    "        \"height\": 821\n",
    "      },\n",
    "      \"action\": {\n",
    "        \"type\": \"message\",\n",
    "        \"text\": \"健身課表推薦\"\n",
    "      }\n",
    "    },\n",
    "    {\n",
    "      \"bounds\": {\n",
    "        \"x\": 17,\n",
    "        \"y\": 854,\n",
    "        \"width\": 808,\n",
    "        \"height\": 821\n",
    "      },\n",
    "      \"action\": {\n",
    "        \"type\": \"message\",\n",
    "        \"text\": \"我的最愛\"\n",
    "      }\n",
    "    },\n",
    "    {\n",
    "      \"bounds\": {\n",
    "        \"x\": 858,\n",
    "        \"y\": 870,\n",
    "        \"width\": 792,\n",
    "        \"height\": 805\n",
    "      },\n",
    "      \"action\": {\n",
    "        \"type\": \"message\",\n",
    "        \"text\": \"我的飲食日記\"\n",
    "      }\n",
    "    },\n",
    "    {\n",
    "      \"bounds\": {\n",
    "        \"x\": 1679,\n",
    "        \"y\": 870,\n",
    "        \"width\": 809,\n",
    "        \"height\": 809\n",
    "      },\n",
    "      \"action\": {\n",
    "        \"type\": \"uri\",\n",
    "        \"uri\": \"http://line.me/R/nv/camera/\"\n",
    "      }\n",
    "    }\n",
    "  ]\n",
    "}\n",
    "\"\"\""
   ]
  },
  {
   "cell_type": "code",
   "execution_count": 10,
   "metadata": {},
   "outputs": [
    {
     "name": "stdout",
     "output_type": "stream",
     "text": [
      "OaeGyg/Pn5zDivcekdRlD+KZlgQ+lkS0DCVujLdOjrv4+29PI2dw1uBbNWaRAPPqlCuH7p6S8XvSpMHoiKajLZzJKdb4+uQ/NA3G26TozeunSYJv26yF0aJXv3dtT/9slHLAjinXpwsTrKcwnARwmgdB04t89/1O/w1cDnyilFU=\n",
      "a2dfb77c5423321e8bac0c422e46371f\n",
      "U5adba943ff7490f390b54d81a9784f5f\n"
     ]
    }
   ],
   "source": [
    "'''\n",
    "\n",
    "讀取安全檔案內的字串，以供後續程式碼調用\n",
    "\n",
    "'''\n",
    "import json\n",
    "secretFileContentJson=json.load(open(\"line_secret_key\",'r',encoding=\"utf-8\"))\n",
    "\n",
    "print(secretFileContentJson.get(\"channel_access_token\"))\n",
    "print(secretFileContentJson.get(\"secret_key\"))\n",
    "print(secretFileContentJson.get(\"self_user_id\"))\n"
   ]
  },
  {
   "cell_type": "code",
   "execution_count": null,
   "metadata": {},
   "outputs": [],
   "source": [
    "!pip install line-bot-sdk"
   ]
  },
  {
   "cell_type": "code",
   "execution_count": 11,
   "metadata": {},
   "outputs": [],
   "source": [
    "'''\n",
    "\n",
    "用channel_access_token創建line_bot_api，預備用來跟Line進行溝通\n",
    "\n",
    "'''\n",
    "\n",
    "from linebot import (\n",
    "    LineBotApi, WebhookHandler\n",
    ")\n",
    "\n",
    "line_bot_api = LineBotApi(secretFileContentJson.get(\"channel_access_token\"))\n"
   ]
  },
  {
   "cell_type": "code",
   "execution_count": 12,
   "metadata": {},
   "outputs": [
    {
     "name": "stdout",
     "output_type": "stream",
     "text": [
      "richmenu-14ef05df7fe537a30c5f3e0686640d79\n"
     ]
    }
   ],
   "source": [
    "'''\n",
    "\n",
    "載入前面的圖文選單設定，\n",
    "\n",
    "並要求line_bot_api將圖文選單上傳至Line\n",
    "    \n",
    "\n",
    "'''\n",
    "\n",
    "from linebot.models import RichMenu\n",
    "import requests\n",
    "\n",
    "menuJson=json.loads(menuRawData)\n",
    "\n",
    "lineRichMenuId = line_bot_api.create_rich_menu(rich_menu=RichMenu.new_from_json_dict(menuJson))\n",
    "print(lineRichMenuId)\n",
    "\n"
   ]
  },
  {
   "cell_type": "code",
   "execution_count": 13,
   "metadata": {},
   "outputs": [
    {
     "name": "stdout",
     "output_type": "stream",
     "text": [
      "None\n"
     ]
    }
   ],
   "source": [
    "'''\n",
    "\n",
    "將先前準備的菜單照片，以Post消息寄發給Line\n",
    "\n",
    "    載入照片\n",
    "    要求line_bot_api，將圖片傳到先前的圖文選單id\n",
    "\n",
    "\n",
    "'''\n",
    "\n",
    "\n",
    "uploadImageFile=open(\"./素材/rich_menu/rich_menu.jpeg\",'rb')\n",
    "\n",
    "setImageResponse = line_bot_api.set_rich_menu_image(lineRichMenuId,'image/jpeg',uploadImageFile)\n",
    "\n",
    "print(setImageResponse)"
   ]
  },
  {
   "cell_type": "code",
   "execution_count": 14,
   "metadata": {},
   "outputs": [
    {
     "name": "stdout",
     "output_type": "stream",
     "text": [
      "None\n"
     ]
    }
   ],
   "source": [
    "'''\n",
    "\n",
    "將選單綁定到特定用戶身上\n",
    "    取出上面得到的菜單Id及用戶id\n",
    "    要求line_bot_api告知Line，將用戶與圖文選單做綁定\n",
    "\n",
    "'''\n",
    "\n",
    "# https://api.line.me/v2/bot/user/{userId}/richmenu/{richMenuId}\n",
    "\n",
    "\n",
    "linkResult=line_bot_api.link_rich_menu_to_user(secretFileContentJson[\"self_user_id\"], lineRichMenuId)\n",
    "\n",
    "print(linkResult)\n"
   ]
  },
  {
   "cell_type": "code",
   "execution_count": 15,
   "metadata": {},
   "outputs": [
    {
     "name": "stdout",
     "output_type": "stream",
     "text": [
      "richmenu-14ef05df7fe537a30c5f3e0686640d79\n"
     ]
    }
   ],
   "source": [
    "'''\n",
    "\n",
    "檢視用戶目前所綁定的菜單\n",
    "    取出用戶id，並告知line_bot_api，\n",
    "    line_bot_api傳回用戶所綁定的菜單\n",
    "    印出\n",
    "\n",
    "'''\n",
    "\n",
    "#  https://api.line.me/v2/bot/user/{userId}/richmenu\n",
    "\n",
    "\n",
    "rich_menu_id = line_bot_api.get_rich_menu_id_of_user(secretFileContentJson[\"self_user_id\"])\n",
    "print(rich_menu_id)\n",
    "\n"
   ]
  },
  {
   "cell_type": "code",
   "execution_count": null,
   "metadata": {},
   "outputs": [],
   "source": [
    "'''\n",
    "\n",
    "解除選單與特定用戶的綁定\n",
    "    取出用戶id，並告知line_bot_api，\n",
    "    line_bot_api解除用戶所綁定的菜單\n",
    "'''\n",
    "\n",
    "lineUnregisterUserMenuResponse=line_bot_api.unlink_rich_menu_from_user(secretFileContentJson[\"self_user_id\"])\n",
    "print(lineUnregisterUserMenuResponse)\n"
   ]
  },
  {
   "cell_type": "code",
   "execution_count": null,
   "metadata": {},
   "outputs": [],
   "source": [
    "'''\n",
    "\n",
    "檢視帳號內，有哪些選單\n",
    "    要求line_bot_api，向line查詢我方的圖文選單列表\n",
    "    打印\n",
    "\n",
    "'''\n",
    "\n",
    "rich_menu_list = line_bot_api.get_rich_menu_list()\n",
    "for rich_menu in rich_menu_list:\n",
    "    print(rich_menu.rich_menu_id)"
   ]
  },
  {
   "cell_type": "code",
   "execution_count": null,
   "metadata": {},
   "outputs": [],
   "source": []
  }
 ],
 "metadata": {
  "kernelspec": {
   "display_name": "Python 3",
   "language": "python",
   "name": "python3"
  },
  "language_info": {
   "codemirror_mode": {
    "name": "ipython",
    "version": 3
   },
   "file_extension": ".py",
   "mimetype": "text/x-python",
   "name": "python",
   "nbconvert_exporter": "python",
   "pygments_lexer": "ipython3",
   "version": "3.7.4"
  }
 },
 "nbformat": 4,
 "nbformat_minor": 2
}
